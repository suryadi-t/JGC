{
 "cells": [
  {
   "cell_type": "code",
   "execution_count": 1,
   "metadata": {},
   "outputs": [],
   "source": [
    "import numpy as np\n",
    "from model import JGC, infer_GC_all_parallel\n",
    "from evaluation import compute_score_metrics, compute_binary_metrics, compute_sign_sensitivity\n",
    "import os\n",
    "import time\n",
    "os.environ['CUDA_VISIBLE_DEVICES'] = '-1' #CPU"
   ]
  },
  {
   "cell_type": "markdown",
   "metadata": {},
   "source": [
    "# Lorenz96 (F=10)"
   ]
  },
  {
   "cell_type": "markdown",
   "metadata": {},
   "source": [
    "For Lorenz96 (F=10), we consider both GC _variable_ inference as well as time _lag_ inference. For time lag inference, the indices of the ground truth should be organized as [effect, time lag, cause] with the time lag organized as [$\\eta,\\eta-1,\\eta-2,\\ldots,3,2,1$]."
   ]
  },
  {
   "cell_type": "code",
   "execution_count": 2,
   "metadata": {},
   "outputs": [
    {
     "name": "stdout",
     "output_type": "stream",
     "text": [
      "Data shape: (500, 20)\n",
      "Time elapsed: 116.3 seconds\n"
     ]
    }
   ],
   "source": [
    "lam = 1\n",
    "data = np.load('data/Lorenz96 (F=10)/X_1.npy')\n",
    "jgc = JGC(dim=data.shape[1],eta=5)\n",
    "print('Data shape:',data.shape)\n",
    "t1 = time.time()\n",
    "var_binary_mat, var_score_mat, lag_binary_mat, lag_score_mat = jgc.infer_GC_all(data,lam,parallelize=True,\n",
    "                                                                     processes=min(os.cpu_count()-1,data.shape[1]))\n",
    "print('Time elapsed: %.1f seconds'%(time.time()-t1))"
   ]
  },
  {
   "cell_type": "code",
   "execution_count": 3,
   "metadata": {},
   "outputs": [
    {
     "name": "stdout",
     "output_type": "stream",
     "text": [
      "GC variables\n",
      "AUROC=0.9987, AUPRC=0.9948\n",
      "Acc=0.9650, Balanced Acc=0.9641, F-score=0.9167\n",
      "\n",
      "GC variables with time lag\n",
      "AUROC=0.9998, AUPRC=0.9947\n",
      "Acc=0.9925, Balanced Acc=0.9781, F-score=0.9112\n"
     ]
    }
   ],
   "source": [
    "var_true = np.load('data/Lorenz96 (F=10)/GC.npy')\n",
    "lag_true = np.load('data/Lorenz96 (F=10)/lags.npy')\n",
    "\n",
    "var_auroc, var_auprc = compute_score_metrics(var_true,var_score_mat,exclude_self=False)\n",
    "var_acc, var_ba, var_f = compute_binary_metrics(var_true,var_binary_mat,exclude_self=False)\n",
    "\n",
    "lag_auroc, lag_auprc = compute_score_metrics(lag_true,lag_score_mat,exclude_self=False,lag=True)\n",
    "lag_acc, lag_ba, lag_f = compute_binary_metrics(lag_true,lag_binary_mat,exclude_self=False,lag=True)\n",
    "\n",
    "print('GC variables')\n",
    "print('AUROC=%.4f, AUPRC=%.4f'%(var_auroc,var_auprc))\n",
    "print('Acc=%.4f, Balanced Acc=%.4f, F-score=%.4f'%(var_acc, var_ba, var_f))\n",
    "print('\\nGC variables with time lag')\n",
    "print('AUROC=%.4f, AUPRC=%.4f'%(lag_auroc,lag_auprc))\n",
    "print('Acc=%.4f, Balanced Acc=%.4f, F-score=%.4f'%(lag_acc, lag_ba, lag_f))"
   ]
  },
  {
   "cell_type": "markdown",
   "metadata": {},
   "source": [
    "# Lotka-Volterra System"
   ]
  },
  {
   "cell_type": "markdown",
   "metadata": {},
   "source": [
    "For the Lotka-Volterra system, we consider only the GC variable inference and ignore the time lag. Here we will also consider the inference of interaction sign."
   ]
  },
  {
   "cell_type": "code",
   "execution_count": 4,
   "metadata": {},
   "outputs": [
    {
     "name": "stdout",
     "output_type": "stream",
     "text": [
      "Data shape: (2000, 20)\n",
      "Time elapsed: 355.6 seconds\n"
     ]
    }
   ],
   "source": [
    "lam = 0.1\n",
    "data = np.load('data/Lotka-Volterra/X_1.npy')\n",
    "jgc = JGC(dim=data.shape[1],eta=1)\n",
    "print('Data shape:',data.shape)\n",
    "t1 = time.time()\n",
    "var_binary_mat, var_score_mat, _, _ = jgc.infer_GC_all(data,lam,parallelize=True,processes=min(os.cpu_count()-1,data.shape[1]))\n",
    "print('Time elapsed: %.1f seconds'%(time.time()-t1))"
   ]
  },
  {
   "cell_type": "code",
   "execution_count": 5,
   "metadata": {},
   "outputs": [
    {
     "name": "stdout",
     "output_type": "stream",
     "text": [
      "GC variables\n",
      "AUROC=0.9999, AUPRC=0.9994\n",
      "Acc=0.9921, Balanced Acc=0.9956, F-score=0.9639\n"
     ]
    }
   ],
   "source": [
    "var_true = np.load('data/Lotka-Volterra/GC.npy')\n",
    "\n",
    "var_auroc, var_auprc = compute_score_metrics(var_true,var_score_mat,exclude_self=True)\n",
    "var_acc, var_ba, var_f = compute_binary_metrics(var_true,var_binary_mat,exclude_self=True)\n",
    "\n",
    "print('GC variables')\n",
    "print('AUROC=%.4f, AUPRC=%.4f'%(var_auroc,var_auprc))\n",
    "print('Acc=%.4f, Balanced Acc=%.4f, F-score=%.4f'%(var_acc, var_ba, var_f))"
   ]
  },
  {
   "cell_type": "markdown",
   "metadata": {},
   "source": [
    "Information on interaction sign can be extracted using `JGC.get_sign_all(threshold)`. When `threshold` is set to `True`, signs of all irrelevant variables are set to 0."
   ]
  },
  {
   "cell_type": "code",
   "execution_count": 6,
   "metadata": {},
   "outputs": [
    {
     "name": "stdout",
     "output_type": "stream",
     "text": [
      "Sensitivity(+)=1.0000, Sensitivity(-)=1.0000\n"
     ]
    }
   ],
   "source": [
    "var_sign, lag_sign = jgc.get_sign_all(threshold=False)\n",
    "sgc = np.load('data/Lotka-Volterra/signedGC.npy')\n",
    "\n",
    "sens_plus, sens_neg = compute_sign_sensitivity(sgc,var_sign,exclude_self=True)\n",
    "print('Sensitivity(+)=%.4f, Sensitivity(-)=%.4f'%(sens_plus,sens_neg))"
   ]
  }
 ],
 "metadata": {
  "kernelspec": {
   "display_name": "tf2.3lahlah",
   "language": "python",
   "name": "tf2.3lahlah"
  },
  "language_info": {
   "codemirror_mode": {
    "name": "ipython",
    "version": 3
   },
   "file_extension": ".py",
   "mimetype": "text/x-python",
   "name": "python",
   "nbconvert_exporter": "python",
   "pygments_lexer": "ipython3",
   "version": "3.8.12"
  }
 },
 "nbformat": 4,
 "nbformat_minor": 4
}
